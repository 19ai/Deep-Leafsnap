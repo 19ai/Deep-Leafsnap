{
 "cells": [
  {
   "cell_type": "code",
   "execution_count": 2,
   "metadata": {
    "collapsed": true
   },
   "outputs": [],
   "source": [
    "import json\n",
    "import numpy as np\n",
    "import pandas as pd\n",
    "import cv2\n",
    "import os\n",
    "import scipy.misc\n",
    "import random\n",
    "\n",
    "from PIL import Image\n",
    "from sklearn import preprocessing\n",
    "from IPython.display import display\n",
    "import matplotlib.pyplot as plt\n",
    "from scipy import stats, integrate, misc\n",
    "from skimage import io,img_as_float\n",
    "\n",
    "%matplotlib inline"
   ]
  },
  {
   "cell_type": "code",
   "execution_count": 3,
   "metadata": {
    "collapsed": true,
    "scrolled": true
   },
   "outputs": [],
   "source": [
    "# GLOBAL CONSTANTS\n",
    "DATA_FILE = 'leafsnap-dataset-images.csv'\n",
    "NUM_CLASSES = 185"
   ]
  },
  {
   "cell_type": "code",
   "execution_count": 4,
   "metadata": {
    "collapsed": false,
    "scrolled": true
   },
   "outputs": [
    {
     "data": {
      "text/html": [
       "<div>\n",
       "<table border=\"1\" class=\"dataframe\">\n",
       "  <thead>\n",
       "    <tr style=\"text-align: right;\">\n",
       "      <th></th>\n",
       "      <th>file_id</th>\n",
       "      <th>image_pat</th>\n",
       "      <th>segmented_path</th>\n",
       "      <th>species</th>\n",
       "      <th>source</th>\n",
       "    </tr>\n",
       "  </thead>\n",
       "  <tbody>\n",
       "    <tr>\n",
       "      <th>0</th>\n",
       "      <td>55498</td>\n",
       "      <td>dataset/images/lab/abies_concolor/ny1157-01-2.jpg</td>\n",
       "      <td>dataset/segmented/lab/abies_concolor/ny1157-01...</td>\n",
       "      <td>Abies concolor</td>\n",
       "      <td>lab</td>\n",
       "    </tr>\n",
       "    <tr>\n",
       "      <th>1</th>\n",
       "      <td>55499</td>\n",
       "      <td>dataset/images/lab/abies_concolor/ny1157-01-3.jpg</td>\n",
       "      <td>dataset/segmented/lab/abies_concolor/ny1157-01...</td>\n",
       "      <td>Abies concolor</td>\n",
       "      <td>lab</td>\n",
       "    </tr>\n",
       "    <tr>\n",
       "      <th>2</th>\n",
       "      <td>55500</td>\n",
       "      <td>dataset/images/lab/abies_concolor/ny1157-01-4.jpg</td>\n",
       "      <td>dataset/segmented/lab/abies_concolor/ny1157-01...</td>\n",
       "      <td>Abies concolor</td>\n",
       "      <td>lab</td>\n",
       "    </tr>\n",
       "    <tr>\n",
       "      <th>3</th>\n",
       "      <td>55501</td>\n",
       "      <td>dataset/images/lab/abies_concolor/ny1157-02-1.jpg</td>\n",
       "      <td>dataset/segmented/lab/abies_concolor/ny1157-02...</td>\n",
       "      <td>Abies concolor</td>\n",
       "      <td>lab</td>\n",
       "    </tr>\n",
       "    <tr>\n",
       "      <th>4</th>\n",
       "      <td>55502</td>\n",
       "      <td>dataset/images/lab/abies_concolor/ny1157-02-2.jpg</td>\n",
       "      <td>dataset/segmented/lab/abies_concolor/ny1157-02...</td>\n",
       "      <td>Abies concolor</td>\n",
       "      <td>lab</td>\n",
       "    </tr>\n",
       "  </tbody>\n",
       "</table>\n",
       "</div>"
      ],
      "text/plain": [
       "   file_id                                          image_pat  \\\n",
       "0    55498  dataset/images/lab/abies_concolor/ny1157-01-2.jpg   \n",
       "1    55499  dataset/images/lab/abies_concolor/ny1157-01-3.jpg   \n",
       "2    55500  dataset/images/lab/abies_concolor/ny1157-01-4.jpg   \n",
       "3    55501  dataset/images/lab/abies_concolor/ny1157-02-1.jpg   \n",
       "4    55502  dataset/images/lab/abies_concolor/ny1157-02-2.jpg   \n",
       "\n",
       "                                      segmented_path         species source  \n",
       "0  dataset/segmented/lab/abies_concolor/ny1157-01...  Abies concolor    lab  \n",
       "1  dataset/segmented/lab/abies_concolor/ny1157-01...  Abies concolor    lab  \n",
       "2  dataset/segmented/lab/abies_concolor/ny1157-01...  Abies concolor    lab  \n",
       "3  dataset/segmented/lab/abies_concolor/ny1157-02...  Abies concolor    lab  \n",
       "4  dataset/segmented/lab/abies_concolor/ny1157-02...  Abies concolor    lab  "
      ]
     },
     "metadata": {},
     "output_type": "display_data"
    },
    {
     "name": "stdout",
     "output_type": "stream",
     "text": [
      "Number of Samples: 30865\n"
     ]
    }
   ],
   "source": [
    "columns = ['file_id', 'image_pat', 'segmented_path', 'species', 'source']\n",
    "data = pd.read_csv(DATA_FILE, names=columns, header=1)\n",
    "display(data.head())\n",
    "\n",
    "images     = data['image_pat']\n",
    "images_seg = data['segmented_path']\n",
    "species    = data['species']\n",
    "species_classes = sorted(set(species))\n",
    "print('Number of Samples: {}'.format(len(images)))"
   ]
  },
  {
   "cell_type": "code",
   "execution_count": 5,
   "metadata": {
    "collapsed": false,
    "scrolled": true
   },
   "outputs": [],
   "source": [
    "def load_image_and_preprocess(path, segmented_path, flip_left_right=False, flip_up_down=False, rotate_180=False):\n",
    "    # Open image from disk and flip it if generating data.\n",
    "    image = misc.imread(path.strip())\n",
    "    segmented_image = misc.imread(segmented_path.strip())\n",
    "    \n",
    "    img = segmented_image\n",
    "    h, w = img.shape[:2]\n",
    "    height,width = h,w\n",
    "    # print('Height: {:3d}, Width: {:4d}\\n'.format(height,width))\n",
    "    ret, thresh = cv2.threshold(img, 127, 255, cv2.THRESH_BINARY)\n",
    "    contours, hierarchy = cv2.findContours(thresh, cv2.RETR_LIST, cv2.CHAIN_APPROX_SIMPLE)\n",
    "    # Calculate bounding rectangles for each contour.\n",
    "    rects = [cv2.boundingRect(cnt) for cnt in contours]\n",
    "    if rects == []:\n",
    "        # No segmentation in image\n",
    "        return []\n",
    "    else:\n",
    "        #Calculate the combined bounding rectangle points.\n",
    "        top_y = max(0, min([y for (x, y, w, h) in rects]) - 40)\n",
    "        bottom_y = min(height, max([y+h for (x, y, w, h) in rects]) + 80)\n",
    "        left_x = max(0, min([x for (x, y, w, h) in rects]) - 40)\n",
    "        right_x = min(width-1, max([x+w for (x, y, w, h) in rects]) + 80)\n",
    "        if left_x >= 455 or top_y >= 480:\n",
    "            return []\n",
    "\n",
    "#    print('[INFO] Bounding Box:\\nLeft X: {:3d},  Right X: {:d}\\nTop Y : {:3d}, Bottom Y: {:3d}'.format(left_x, right_x, top_y, bottom_y))\n",
    "\n",
    "    # Use the rectangle to crop on original image\n",
    "    img = image[top_y:bottom_y, left_x:right_x]\n",
    "    img = scipy.misc.imresize(img, (264,264))\n",
    "    return img"
   ]
  },
  {
   "cell_type": "code",
   "execution_count": 6,
   "metadata": {
    "collapsed": false,
    "scrolled": false
   },
   "outputs": [
    {
     "name": "stdout",
     "output_type": "stream",
     "text": [
      "[INFO] Processing Images\n",
      "cropped_images/Abies Concolor/0.jpg\n",
      "cropped_images/Abies Concolor/1.jpg\n",
      "cropped_images/Abies Concolor/2.jpg\n",
      "cropped_images/Abies Concolor/3.jpg\n",
      "cropped_images/Abies Concolor/4.jpg\n",
      "cropped_images/Abies Concolor/5.jpg\n",
      "cropped_images/Abies Concolor/6.jpg\n",
      "cropped_images/Abies Concolor/7.jpg\n",
      "cropped_images/Abies Concolor/8.jpg\n",
      "cropped_images/Abies Concolor/9.jpg\n",
      "cropped_images/Abies Concolor/10.jpg\n",
      "cropped_images/Abies Concolor/11.jpg\n"
     ]
    },
    {
     "ename": "KeyboardInterrupt",
     "evalue": "",
     "output_type": "error",
     "traceback": [
      "\u001b[0;31m---------------------------------------------------------------------------\u001b[0m",
      "\u001b[0;31mKeyboardInterrupt\u001b[0m                         Traceback (most recent call last)",
      "\u001b[0;32m<ipython-input-6-56f2318f7cf7>\u001b[0m in \u001b[0;36m<module>\u001b[0;34m()\u001b[0m\n\u001b[1;32m      7\u001b[0m \u001b[0mcount\u001b[0m \u001b[0;34m=\u001b[0m \u001b[0;36m0\u001b[0m\u001b[0;34m\u001b[0m\u001b[0m\n\u001b[1;32m      8\u001b[0m \u001b[0;32mfor\u001b[0m \u001b[0mindex\u001b[0m \u001b[0;32min\u001b[0m \u001b[0mrange\u001b[0m\u001b[0;34m(\u001b[0m\u001b[0mlen\u001b[0m\u001b[0;34m(\u001b[0m\u001b[0mimages\u001b[0m\u001b[0;34m)\u001b[0m\u001b[0;34m)\u001b[0m\u001b[0;34m:\u001b[0m\u001b[0;34m\u001b[0m\u001b[0m\n\u001b[0;32m----> 9\u001b[0;31m     \u001b[0mimage\u001b[0m \u001b[0;34m=\u001b[0m \u001b[0mload_image_and_preprocess\u001b[0m\u001b[0;34m(\u001b[0m\u001b[0mimages\u001b[0m\u001b[0;34m[\u001b[0m\u001b[0mindex\u001b[0m\u001b[0;34m]\u001b[0m\u001b[0;34m,\u001b[0m \u001b[0mimages_seg\u001b[0m\u001b[0;34m[\u001b[0m\u001b[0mindex\u001b[0m\u001b[0;34m]\u001b[0m\u001b[0;34m)\u001b[0m\u001b[0;34m\u001b[0m\u001b[0m\n\u001b[0m\u001b[1;32m     10\u001b[0m     \u001b[0;32mif\u001b[0m \u001b[0mtype\u001b[0m\u001b[0;34m(\u001b[0m\u001b[0mimage\u001b[0m\u001b[0;34m)\u001b[0m \u001b[0;34m!=\u001b[0m \u001b[0mtype\u001b[0m\u001b[0;34m(\u001b[0m\u001b[0;34m[\u001b[0m\u001b[0;34m]\u001b[0m\u001b[0;34m)\u001b[0m\u001b[0;34m:\u001b[0m\u001b[0;34m\u001b[0m\u001b[0m\n\u001b[1;32m     11\u001b[0m         \u001b[0mcropped_images\u001b[0m\u001b[0;34m.\u001b[0m\u001b[0mappend\u001b[0m\u001b[0;34m(\u001b[0m\u001b[0mimage\u001b[0m\u001b[0;34m)\u001b[0m\u001b[0;34m\u001b[0m\u001b[0m\n",
      "\u001b[0;32m<ipython-input-5-99dc0be97dac>\u001b[0m in \u001b[0;36mload_image_and_preprocess\u001b[0;34m(path, segmented_path, flip_left_right, flip_up_down, rotate_180)\u001b[0m\n\u001b[1;32m      2\u001b[0m     \u001b[0;31m# Open image from disk and flip it if generating data.\u001b[0m\u001b[0;34m\u001b[0m\u001b[0;34m\u001b[0m\u001b[0m\n\u001b[1;32m      3\u001b[0m     \u001b[0mimage\u001b[0m \u001b[0;34m=\u001b[0m \u001b[0mmisc\u001b[0m\u001b[0;34m.\u001b[0m\u001b[0mimread\u001b[0m\u001b[0;34m(\u001b[0m\u001b[0mpath\u001b[0m\u001b[0;34m.\u001b[0m\u001b[0mstrip\u001b[0m\u001b[0;34m(\u001b[0m\u001b[0;34m)\u001b[0m\u001b[0;34m)\u001b[0m\u001b[0;34m\u001b[0m\u001b[0m\n\u001b[0;32m----> 4\u001b[0;31m     \u001b[0msegmented_image\u001b[0m \u001b[0;34m=\u001b[0m \u001b[0mmisc\u001b[0m\u001b[0;34m.\u001b[0m\u001b[0mimread\u001b[0m\u001b[0;34m(\u001b[0m\u001b[0msegmented_path\u001b[0m\u001b[0;34m.\u001b[0m\u001b[0mstrip\u001b[0m\u001b[0;34m(\u001b[0m\u001b[0;34m)\u001b[0m\u001b[0;34m)\u001b[0m\u001b[0;34m\u001b[0m\u001b[0m\n\u001b[0m\u001b[1;32m      5\u001b[0m \u001b[0;34m\u001b[0m\u001b[0m\n\u001b[1;32m      6\u001b[0m     \u001b[0mimg\u001b[0m \u001b[0;34m=\u001b[0m \u001b[0msegmented_image\u001b[0m\u001b[0;34m\u001b[0m\u001b[0m\n",
      "\u001b[0;32m/Users/sujith/anaconda/lib/python2.7/site-packages/scipy/misc/pilutil.pyc\u001b[0m in \u001b[0;36mimread\u001b[0;34m(name, flatten, mode)\u001b[0m\n\u001b[1;32m    155\u001b[0m \u001b[0;34m\u001b[0m\u001b[0m\n\u001b[1;32m    156\u001b[0m     \u001b[0mim\u001b[0m \u001b[0;34m=\u001b[0m \u001b[0mImage\u001b[0m\u001b[0;34m.\u001b[0m\u001b[0mopen\u001b[0m\u001b[0;34m(\u001b[0m\u001b[0mname\u001b[0m\u001b[0;34m)\u001b[0m\u001b[0;34m\u001b[0m\u001b[0m\n\u001b[0;32m--> 157\u001b[0;31m     \u001b[0;32mreturn\u001b[0m \u001b[0mfromimage\u001b[0m\u001b[0;34m(\u001b[0m\u001b[0mim\u001b[0m\u001b[0;34m,\u001b[0m \u001b[0mflatten\u001b[0m\u001b[0;34m=\u001b[0m\u001b[0mflatten\u001b[0m\u001b[0;34m,\u001b[0m \u001b[0mmode\u001b[0m\u001b[0;34m=\u001b[0m\u001b[0mmode\u001b[0m\u001b[0;34m)\u001b[0m\u001b[0;34m\u001b[0m\u001b[0m\n\u001b[0m\u001b[1;32m    158\u001b[0m \u001b[0;34m\u001b[0m\u001b[0m\n\u001b[1;32m    159\u001b[0m \u001b[0;34m\u001b[0m\u001b[0m\n",
      "\u001b[0;32m/Users/sujith/anaconda/lib/python2.7/site-packages/scipy/misc/pilutil.pyc\u001b[0m in \u001b[0;36mfromimage\u001b[0;34m(im, flatten, mode)\u001b[0m\n\u001b[1;32m    250\u001b[0m         \u001b[0;31m#\u001b[0m\u001b[0;34m\u001b[0m\u001b[0;34m\u001b[0m\u001b[0m\n\u001b[1;32m    251\u001b[0m         \u001b[0;31m# This converts im from a 1-bit image to an 8-bit image.\u001b[0m\u001b[0;34m\u001b[0m\u001b[0;34m\u001b[0m\u001b[0m\n\u001b[0;32m--> 252\u001b[0;31m         \u001b[0mim\u001b[0m \u001b[0;34m=\u001b[0m \u001b[0mim\u001b[0m\u001b[0;34m.\u001b[0m\u001b[0mconvert\u001b[0m\u001b[0;34m(\u001b[0m\u001b[0;34m'L'\u001b[0m\u001b[0;34m)\u001b[0m\u001b[0;34m\u001b[0m\u001b[0m\n\u001b[0m\u001b[1;32m    253\u001b[0m \u001b[0;34m\u001b[0m\u001b[0m\n\u001b[1;32m    254\u001b[0m     \u001b[0ma\u001b[0m \u001b[0;34m=\u001b[0m \u001b[0marray\u001b[0m\u001b[0;34m(\u001b[0m\u001b[0mim\u001b[0m\u001b[0;34m)\u001b[0m\u001b[0;34m\u001b[0m\u001b[0m\n",
      "\u001b[0;32m/Users/sujith/anaconda/lib/python2.7/site-packages/PIL/Image.pyc\u001b[0m in \u001b[0;36mconvert\u001b[0;34m(self, mode, matrix, dither, palette, colors)\u001b[0m\n\u001b[1;32m    928\u001b[0m \u001b[0;34m\u001b[0m\u001b[0m\n\u001b[1;32m    929\u001b[0m         \u001b[0;32mtry\u001b[0m\u001b[0;34m:\u001b[0m\u001b[0;34m\u001b[0m\u001b[0m\n\u001b[0;32m--> 930\u001b[0;31m             \u001b[0mim\u001b[0m \u001b[0;34m=\u001b[0m \u001b[0mself\u001b[0m\u001b[0;34m.\u001b[0m\u001b[0mim\u001b[0m\u001b[0;34m.\u001b[0m\u001b[0mconvert\u001b[0m\u001b[0;34m(\u001b[0m\u001b[0mmode\u001b[0m\u001b[0;34m,\u001b[0m \u001b[0mdither\u001b[0m\u001b[0;34m)\u001b[0m\u001b[0;34m\u001b[0m\u001b[0m\n\u001b[0m\u001b[1;32m    931\u001b[0m         \u001b[0;32mexcept\u001b[0m \u001b[0mValueError\u001b[0m\u001b[0;34m:\u001b[0m\u001b[0;34m\u001b[0m\u001b[0m\n\u001b[1;32m    932\u001b[0m             \u001b[0;32mtry\u001b[0m\u001b[0;34m:\u001b[0m\u001b[0;34m\u001b[0m\u001b[0m\n",
      "\u001b[0;31mKeyboardInterrupt\u001b[0m: "
     ]
    }
   ],
   "source": [
    "# sample = random.sample(range(0, len(images)), 3)\n",
    "# sample = [6320, 23424, 25187]\n",
    "print('[INFO] Processing Images')\n",
    "cropped_images = []\n",
    "image_species = []\n",
    "image_paths = []\n",
    "count = 0\n",
    "for index in range(len(images)):\n",
    "    image = load_image_and_preprocess(images[index], images_seg[index])\n",
    "    if type(image) != type([]):\n",
    "        cropped_images.append(image)\n",
    "        image_species.append(species[index])\n",
    "        file_name = 'cropped_images/{}/{}.jpg'.format(species[index].title(), count)\n",
    "        print(file_name)\n",
    "        image_paths.append(file_name)\n",
    "        cv2.imwrite(file_name, image)\n",
    "        count += 1\n",
    "    if index > 0 and index%1000 == 0:\n",
    "        print('[INFO] Processed {:5d} images'.format(index))\n",
    "#         _ = plt.imshow(image)\n",
    "#         plt.title('Species: {}\\nImage Path: {}\\nSegmented Path: {}\\n'.format(species[index], images[index], images_seg[index]))\n",
    "#         plt.show()\n",
    "#    else:\n",
    "#         print('[ERROR] Image has no segmentation!')\n",
    "#         print('Image Path: {}\\n'.format(images[index]))\n",
    "print('[DONE]')"
   ]
  },
  {
   "cell_type": "code",
   "execution_count": null,
   "metadata": {
    "collapsed": true,
    "scrolled": true
   },
   "outputs": [],
   "source": []
  }
 ],
 "metadata": {
  "anaconda-cloud": {},
  "kernelspec": {
   "display_name": "Python 2",
   "language": "python",
   "name": "python2"
  }
 },
 "nbformat": 4,
 "nbformat_minor": 2
}
